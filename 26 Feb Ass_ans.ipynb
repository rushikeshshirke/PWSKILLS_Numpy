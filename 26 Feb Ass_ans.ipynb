{
 "cells": [
  {
   "cell_type": "code",
   "execution_count": 1,
   "id": "7d088e0e-672f-42c5-ac2a-eb6ebc5cba51",
   "metadata": {},
   "outputs": [
    {
     "name": "stdout",
     "output_type": "stream",
     "text": [
      "Data type of list_: <class 'list'>\n",
      "Data type of array_list: <class 'numpy.ndarray'>\n"
     ]
    }
   ],
   "source": [
    "# # Q1\n",
    "\n",
    "# Yes, there is a difference in the data types of variables list_ and array_list. The variable list_ is a \n",
    "# Python list, while array_list is a NumPy array.\n",
    "\n",
    "import numpy as np\n",
    "\n",
    "list_ = ['1', '2', '3', '4', '5']\n",
    "array_list = np.array(object=list_)\n",
    "\n",
    "# Print the data types\n",
    "print(\"Data type of list_:\", type(list_))\n",
    "print(\"Data type of array_list:\", type(array_list))\n"
   ]
  },
  {
   "cell_type": "code",
   "execution_count": 3,
   "id": "2211253e-320b-4290-8f15-c2e2355114fc",
   "metadata": {},
   "outputs": [
    {
     "name": "stdout",
     "output_type": "stream",
     "text": [
      "Data types of elements in list_:\n",
      "<class 'str'>\n",
      "<class 'str'>\n",
      "<class 'str'>\n",
      "<class 'str'>\n",
      "<class 'str'>\n",
      "\n",
      "Data types of elements in array_list:\n",
      "<class 'numpy.str_'>\n",
      "<class 'numpy.str_'>\n",
      "<class 'numpy.str_'>\n",
      "<class 'numpy.str_'>\n",
      "<class 'numpy.str_'>\n"
     ]
    }
   ],
   "source": [
    "# Q2\n",
    "\n",
    "import numpy as np\n",
    "\n",
    "list_ = ['1', '2', '3', '4', '5']\n",
    "array_list = np.array(object=list_)\n",
    "\n",
    "# Print data type of each element in list_\n",
    "print(\"Data types of elements in list_:\")\n",
    "for element in list_:\n",
    "    print(type(element))\n",
    "\n",
    "# Print data type of each element in array_list\n",
    "print(\"\\nData types of elements in array_list:\")\n",
    "for element in array_list:\n",
    "    print(type(element))\n"
   ]
  },
  {
   "cell_type": "code",
   "execution_count": 4,
   "id": "3045ac9d-e611-4fe1-92ee-4321d54ad373",
   "metadata": {},
   "outputs": [
    {
     "name": "stdout",
     "output_type": "stream",
     "text": [
      "Data types of elements in list_:\n",
      "<class 'str'>\n",
      "<class 'str'>\n",
      "<class 'str'>\n",
      "<class 'str'>\n",
      "<class 'str'>\n",
      "\n",
      "Data types of elements in array_list:\n",
      "<class 'numpy.int64'>\n",
      "<class 'numpy.int64'>\n",
      "<class 'numpy.int64'>\n",
      "<class 'numpy.int64'>\n",
      "<class 'numpy.int64'>\n"
     ]
    }
   ],
   "source": [
    "# # Q3\n",
    "# Yes, there will be a difference in the data type of the elements present in list_ and array_list due to the \n",
    "# specified dtype parameter as int during the creation of array_list. \n",
    "# The elements in array_list will be converted to integers.\n",
    "\n",
    "import numpy as np\n",
    "\n",
    "list_ = ['1', '2', '3', '4', '5']\n",
    "array_list = np.array(object=list_, dtype=int)\n",
    "\n",
    "# Print data type of each element in list_\n",
    "print(\"Data types of elements in list_:\")\n",
    "for element in list_:\n",
    "    print(type(element))\n",
    "\n",
    "# Print data type of each element in array_list\n",
    "print(\"\\nData types of elements in array_list:\")\n",
    "for element in array_list:\n",
    "    print(type(element))\n"
   ]
  },
  {
   "cell_type": "code",
   "execution_count": 8,
   "id": "8ed7e89c-6b04-416b-9c22-cbdf49bdd1c5",
   "metadata": {},
   "outputs": [
    {
     "name": "stdout",
     "output_type": "stream",
     "text": [
      "Shape is :  (2, 3)\n",
      "SIze is :  6\n"
     ]
    }
   ],
   "source": [
    "# Q4\n",
    "\n",
    "import numpy as np\n",
    "num_list = [ [ 1 , 2 , 3 ] , [ 4 , 5 , 6 ] ]\n",
    "num_array = np.array(object = num_list)\n",
    "\n",
    "print('Shape is : ', num_array.shape)\n",
    "print('SIze is : ', num_array.size)"
   ]
  },
  {
   "cell_type": "code",
   "execution_count": 13,
   "id": "1bd191f6-f460-45c4-84f7-07c8c0f41a8b",
   "metadata": {},
   "outputs": [
    {
     "name": "stdout",
     "output_type": "stream",
     "text": [
      "Array is :  [[0. 0. 0.]\n",
      " [0. 0. 0.]\n",
      " [0. 0. 0.]]\n",
      "Size is :  9\n",
      "Shape is :  (3, 3)\n"
     ]
    }
   ],
   "source": [
    "# Q5\n",
    "\n",
    "import numpy as np\n",
    "\n",
    "arr = np.zeros((3,3))\n",
    "\n",
    "print('Array is : ', arr)\n",
    "print('Size is : ', arr.size)\n",
    "print('Shape is : ', arr.shape)"
   ]
  },
  {
   "cell_type": "code",
   "execution_count": 18,
   "id": "61241e01-6d86-4d03-afd0-c5ef95e2db9e",
   "metadata": {},
   "outputs": [
    {
     "name": "stdout",
     "output_type": "stream",
     "text": [
      "Identity Matrix is : \n",
      " [[1. 0. 0. 0. 0.]\n",
      " [0. 1. 0. 0. 0.]\n",
      " [0. 0. 1. 0. 0.]\n",
      " [0. 0. 0. 1. 0.]\n",
      " [0. 0. 0. 0. 1.]]\n",
      "Shape is :  (5, 5)\n"
     ]
    }
   ],
   "source": [
    "# Q6\n",
    "\n",
    "identity_matrix = np.eye(5)\n",
    "\n",
    "print('Identity Matrix is : \\n', identity_matrix)\n",
    "print('Shape is : ', identity_matrix.shape)"
   ]
  },
  {
   "cell_type": "code",
   "execution_count": null,
   "id": "c1dec102-16e5-4aff-a1f4-aa476f49b0e4",
   "metadata": {},
   "outputs": [],
   "source": []
  }
 ],
 "metadata": {
  "kernelspec": {
   "display_name": "Python 3 (ipykernel)",
   "language": "python",
   "name": "python3"
  },
  "language_info": {
   "codemirror_mode": {
    "name": "ipython",
    "version": 3
   },
   "file_extension": ".py",
   "mimetype": "text/x-python",
   "name": "python",
   "nbconvert_exporter": "python",
   "pygments_lexer": "ipython3",
   "version": "3.10.8"
  }
 },
 "nbformat": 4,
 "nbformat_minor": 5
}
